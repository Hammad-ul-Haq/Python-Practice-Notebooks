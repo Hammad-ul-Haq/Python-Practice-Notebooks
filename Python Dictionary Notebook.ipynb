{
 "cells": [
  {
   "cell_type": "markdown",
   "id": "024b419f",
   "metadata": {},
   "source": [
    "#### Python Dictionary Methods"
   ]
  },
  {
   "cell_type": "markdown",
   "id": "852f77fa",
   "metadata": {},
   "source": [
    "|Method|Description|\n",
    "|:-----|:----------|\n",
    "|clear()|Removes all the elements from the dictionary|\n",
    "|copy()|Returns a copy of the dictionary|\n",
    "|fromkeys()|Returns a dictionary with the specified keys and value|\n",
    "|get()|Returns the value of the specified key|\n",
    "|items()|Returns a list containing a tuple for each key value pair|\n",
    "|keys()|Returns a list containing the dictionary's keys|\n",
    "|pop()|Removes the element with the specified key|\n",
    "|popitem()|Removes the last inserted key-value pair|\n",
    "|setdefault()|Returns the value of the specified key. If the key does not exist: insert the key, with the specified value|\n",
    "|update()|Updates the dictionary with the specified key-value pairs|\n",
    "|values()|Returns a list of all the values in the dictionary|"
   ]
  },
  {
   "cell_type": "markdown",
   "id": "a1584069",
   "metadata": {},
   "source": [
    "### 1. Write a Python script to sort (ascending and descending) a dictionary by value"
   ]
  },
  {
   "cell_type": "code",
   "execution_count": 3,
   "id": "678adbc5",
   "metadata": {},
   "outputs": [],
   "source": [
    "import operator"
   ]
  },
  {
   "cell_type": "code",
   "execution_count": 6,
   "id": "12e9f572",
   "metadata": {},
   "outputs": [
    {
     "name": "stdout",
     "output_type": "stream",
     "text": [
      "orignal dictionary :  {1: 2, 3: 4, 4: 3, 2: 1, 0: 0}\n"
     ]
    }
   ],
   "source": [
    "d = {1: 2, 3: 4, 4: 3, 2: 1, 0: 0}\n",
    "print(\"orignal dictionary : \" ,d)"
   ]
  },
  {
   "cell_type": "code",
   "execution_count": 10,
   "id": "5365fc76",
   "metadata": {},
   "outputs": [
    {
     "name": "stdout",
     "output_type": "stream",
     "text": [
      "Dictionary in ascending order by value :  [(0, 0), (2, 1), (1, 2), (4, 3), (3, 4)]\n"
     ]
    }
   ],
   "source": [
    "sorted_d= sorted(d.items(),key=operator.itemgetter(1),reverse=False)\n",
    "print('Dictionary in ascending order by value : ',sorted_d)"
   ]
  },
  {
   "cell_type": "code",
   "execution_count": 11,
   "id": "3144dfaa",
   "metadata": {},
   "outputs": [
    {
     "name": "stdout",
     "output_type": "stream",
     "text": [
      "Dictionary in descending order by value :  {3: 4, 4: 3, 1: 2, 2: 1, 0: 0}\n"
     ]
    }
   ],
   "source": [
    "sorted_d = dict( sorted(d.items(), key=operator.itemgetter(1),reverse=True))\n",
    "print('Dictionary in descending order by value : ',sorted_d)"
   ]
  },
  {
   "cell_type": "markdown",
   "id": "4c119560",
   "metadata": {},
   "source": [
    "### 2. Write a Python script to add a key to a dictionary."
   ]
  },
  {
   "cell_type": "markdown",
   "id": "a2473a78",
   "metadata": {},
   "source": [
    "Sample Dictionary : {0: 10, 1: 20}<br>\n",
    "Expected Result : {0: 10, 1: 20, 2: 30}"
   ]
  },
  {
   "cell_type": "code",
   "execution_count": 14,
   "id": "3b82fa6d",
   "metadata": {},
   "outputs": [
    {
     "name": "stdout",
     "output_type": "stream",
     "text": [
      "{0: 10, 1: 20, 2: 30}\n"
     ]
    }
   ],
   "source": [
    "d={0: 10, 1: 20}\n",
    "d.update({2:30})\n",
    "print(d)"
   ]
  },
  {
   "cell_type": "markdown",
   "id": "790f8331",
   "metadata": {},
   "source": [
    "### 3. Write a Python script to concatenate following dictionaries to create a new one."
   ]
  },
  {
   "cell_type": "markdown",
   "id": "ccec0948",
   "metadata": {},
   "source": [
    "Sample Dictionary :<br>\n",
    "dic1={1:10, 2:20}<br>\n",
    "dic2={3:30, 4:40}<br>\n",
    "dic3={5:50,6:60}<br>\n",
    "Expected Result : {1: 10, 2: 20, 3: 30, 4: 40, 5: 50, 6: 60}"
   ]
  },
  {
   "cell_type": "code",
   "execution_count": 25,
   "id": "2df45f5a",
   "metadata": {},
   "outputs": [
    {
     "name": "stdout",
     "output_type": "stream",
     "text": [
      "{1: 10, 2: 20, 3: 30, 4: 40, 5: 50, 6: 60}\n"
     ]
    }
   ],
   "source": [
    "dic1={1:10, 2:20}\n",
    "dic2={3:30, 4:40}\n",
    "dic3={5:50,6:60}\n",
    "dic4={}\n",
    "for d in (dic1,dic2,dic3):dic4.update(d)\n",
    "print(dic4)"
   ]
  },
  {
   "cell_type": "markdown",
   "id": "cc160d65",
   "metadata": {},
   "source": [
    "### 4. Write a Python script to check whether a given key already exists in a dictionary."
   ]
  },
  {
   "cell_type": "code",
   "execution_count": 26,
   "id": "07c5af79",
   "metadata": {},
   "outputs": [],
   "source": [
    "d = {1: 10, 2: 20, 3: 30, 4: 40, 5: 50, 6: 60}\n",
    "def is_key_present(x):\n",
    "    if x in d:\n",
    "        print('key is present')\n",
    "    else:\n",
    "        print('Key not present')"
   ]
  },
  {
   "cell_type": "code",
   "execution_count": 28,
   "id": "2b2f4b2a",
   "metadata": {},
   "outputs": [
    {
     "name": "stdout",
     "output_type": "stream",
     "text": [
      "key is present\n",
      "Key not present\n"
     ]
    }
   ],
   "source": [
    "is_key_present(5)\n",
    "is_key_present(7)"
   ]
  },
  {
   "cell_type": "markdown",
   "id": "ece32a4f",
   "metadata": {},
   "source": [
    "### 5. Write a Python program to iterate over dictionaries using for loops."
   ]
  },
  {
   "cell_type": "code",
   "execution_count": 29,
   "id": "363da542",
   "metadata": {},
   "outputs": [
    {
     "name": "stdout",
     "output_type": "stream",
     "text": [
      "x -> 10\n",
      "y -> 20\n",
      "z -> 30\n"
     ]
    }
   ],
   "source": [
    "d = {'x': 10, 'y': 20, 'z': 30} \n",
    "for dict_key,dict_value in d.items():\n",
    "    print(dict_key,'->',dict_value)"
   ]
  },
  {
   "cell_type": "markdown",
   "id": "fd0cc03c",
   "metadata": {},
   "source": [
    "###  6. Write a Python script to generate and print a dictionary that contains a number (between 1 and n) in the form (x, x*x). <br>\n",
    "Sample Dictionary ( n = 5) : <br>\n",
    "Expected Output : {1: 1, 2: 4, 3: 9, 4: 16, 5: 25}"
   ]
  },
  {
   "cell_type": "code",
   "execution_count": 36,
   "id": "d0ad4d36",
   "metadata": {},
   "outputs": [
    {
     "name": "stdout",
     "output_type": "stream",
     "text": [
      "Input Number10\n",
      "{1: 1, 2: 4, 3: 9, 4: 16, 5: 25, 6: 36, 7: 49, 8: 64, 9: 81, 10: 100}\n"
     ]
    }
   ],
   "source": [
    "n=int(input(\"Input Number\"))\n",
    "d=dict()\n",
    "\n",
    "for x in range (1,n+1):\n",
    "    d[x]=x*x\n",
    "    \n",
    "print(d)"
   ]
  },
  {
   "cell_type": "markdown",
   "id": "e344330a",
   "metadata": {},
   "source": [
    "### 7. Write a Python script to print a dictionary where the keys are numbers between 1 and 15 (both included) and the values are square of keys.<br>\n",
    "d= {1: 1, 2: 4, 3: 9, 4: 16, 5: 25, 6: 36, 7: 49, 8: 64, 9: 81, 10: 100, 11: 121, 12: 144, 13: 169, 14: 196, 15: 225}"
   ]
  },
  {
   "cell_type": "code",
   "execution_count": 9,
   "id": "d9153ca8",
   "metadata": {},
   "outputs": [
    {
     "name": "stdout",
     "output_type": "stream",
     "text": [
      "{1: 1, 2: 4, 3: 9, 4: 16, 5: 25, 6: 36, 7: 49, 8: 64, 9: 81, 10: 100, 11: 121, 12: 144, 13: 169, 14: 196}\n"
     ]
    }
   ],
   "source": [
    "d={}\n",
    "for i in range(1,15):\n",
    "    d[i]=i**2\n",
    "    \n",
    "print(d)"
   ]
  },
  {
   "cell_type": "markdown",
   "id": "c43f9eb9",
   "metadata": {},
   "source": [
    "8. Write a Python script to merge two Python dictionaries."
   ]
  },
  {
   "cell_type": "code",
   "execution_count": 12,
   "id": "c02ffe2e",
   "metadata": {},
   "outputs": [
    {
     "data": {
      "text/plain": [
       "{1: 1, 2: 4, 3: 9, 4: 16, 5: 25, 6: 36, 7: 49, 8: 64, 9: 81, 10: 100}"
      ]
     },
     "execution_count": 12,
     "metadata": {},
     "output_type": "execute_result"
    }
   ],
   "source": [
    "d1= {1: 1, 2: 4, 3: 9, 4: 16}\n",
    "d2={5: 25, 6: 36, 7: 49, 8: 64, 9: 81, 10: 100}\n",
    "d1.update(d2)\n",
    "d1"
   ]
  },
  {
   "cell_type": "markdown",
   "id": "df5e29bf",
   "metadata": {},
   "source": [
    "### 9. Write a Python program to iterate over dictionaries using for loops."
   ]
  },
  {
   "cell_type": "code",
   "execution_count": 13,
   "id": "d36cbffc",
   "metadata": {},
   "outputs": [
    {
     "name": "stdout",
     "output_type": "stream",
     "text": [
      "Red corresponds to  1\n",
      "Green corresponds to  2\n",
      "Blue corresponds to  3\n"
     ]
    }
   ],
   "source": [
    "d = {'Red': 1, 'Green': 2, 'Blue': 3} \n",
    "for color_key, value in d.items():\n",
    "     print(color_key, 'corresponds to ', d[color_key]) \n",
    "    "
   ]
  },
  {
   "cell_type": "markdown",
   "id": "ebdcc4e8",
   "metadata": {},
   "source": [
    "### 10. Write a Python program to sum all the items in a dictionary."
   ]
  },
  {
   "cell_type": "code",
   "execution_count": 22,
   "id": "ee24357f",
   "metadata": {},
   "outputs": [
    {
     "name": "stdout",
     "output_type": "stream",
     "text": [
      "293\n"
     ]
    }
   ],
   "source": [
    "my_dict = {'data1':100,'data2':-54,'data3':247}\n",
    "dsum=0\n",
    "for i,v in my_dict.items():\n",
    "    dsum +=my_dict[i]\n",
    "print(dsum)"
   ]
  },
  {
   "cell_type": "code",
   "execution_count": 23,
   "id": "595cd1d3",
   "metadata": {},
   "outputs": [
    {
     "name": "stdout",
     "output_type": "stream",
     "text": [
      "293\n"
     ]
    }
   ],
   "source": [
    "print(sum(my_dict.values()))"
   ]
  },
  {
   "cell_type": "markdown",
   "id": "3b6a2de1",
   "metadata": {},
   "source": [
    "### 11. Write a Python program to multiply all the items in a dictionary."
   ]
  },
  {
   "cell_type": "code",
   "execution_count": 24,
   "id": "0645659b",
   "metadata": {},
   "outputs": [
    {
     "name": "stdout",
     "output_type": "stream",
     "text": [
      "1333800\n"
     ]
    }
   ],
   "source": [
    "my_dict = {'data1':100,'data2':54,'data3':247}\n",
    "dsum=1\n",
    "for i,v in my_dict.items():\n",
    "    dsum *=v\n",
    "print(dsum)"
   ]
  },
  {
   "cell_type": "markdown",
   "id": "16390a95",
   "metadata": {},
   "source": [
    "### 12. Write a Python program to remove a key from a dictionary."
   ]
  },
  {
   "cell_type": "code",
   "execution_count": 25,
   "id": "00beed94",
   "metadata": {},
   "outputs": [
    {
     "name": "stdout",
     "output_type": "stream",
     "text": [
      "{1: 10, 3: 30, 4: 40, 5: 50, 6: 60}\n"
     ]
    }
   ],
   "source": [
    "d = {1: 10, 2: 20, 3: 30, 4: 40, 5: 50, 6: 60}\n",
    "d.pop(2)\n",
    "print(d)"
   ]
  },
  {
   "cell_type": "markdown",
   "id": "2f8b7b67",
   "metadata": {},
   "source": [
    "### 13. Write a Python program to map two lists into a dictionary."
   ]
  },
  {
   "cell_type": "code",
   "execution_count": 26,
   "id": "7824f39b",
   "metadata": {},
   "outputs": [],
   "source": [
    "keys = ['red', 'green', 'blue']\n",
    "values = ['#FF0000','#008000', '#0000FF']"
   ]
  },
  {
   "cell_type": "code",
   "execution_count": 27,
   "id": "868834d3",
   "metadata": {},
   "outputs": [
    {
     "name": "stdout",
     "output_type": "stream",
     "text": [
      "{'red': '#0000FF', 'green': '#0000FF', 'blue': '#0000FF'}\n"
     ]
    }
   ],
   "source": [
    "dn={}\n",
    "for k in keys:\n",
    "    for v in values:\n",
    "        dn.update({k:v})\n",
    "        \n",
    "print(dn)\n",
    "        "
   ]
  },
  {
   "cell_type": "code",
   "execution_count": 28,
   "id": "1d38f564",
   "metadata": {},
   "outputs": [
    {
     "name": "stdout",
     "output_type": "stream",
     "text": [
      "{'red': '#FF0000', 'green': '#008000', 'blue': '#0000FF'}\n"
     ]
    }
   ],
   "source": [
    "dn1={}\n",
    "dn1= dict(zip(keys, values))\n",
    "print(dn1)"
   ]
  },
  {
   "cell_type": "markdown",
   "id": "3296ddc5",
   "metadata": {},
   "source": [
    "### 14. Write a Python program to sort a given dictionary by key."
   ]
  },
  {
   "cell_type": "code",
   "execution_count": 29,
   "id": "e58ff8cd",
   "metadata": {},
   "outputs": [],
   "source": [
    "color_dict = {'red':'#FF0000',\n",
    "          'green':'#008000',\n",
    "          'black':'#000000',\n",
    "          'white':'#FFFFFF'}"
   ]
  },
  {
   "cell_type": "code",
   "execution_count": 32,
   "id": "d485de72",
   "metadata": {},
   "outputs": [
    {
     "name": "stdout",
     "output_type": "stream",
     "text": [
      "[('black', '#000000'), ('green', '#008000'), ('red', '#FF0000'), ('white', '#FFFFFF')]\n"
     ]
    }
   ],
   "source": [
    "print(sorted(color_dict.items()))"
   ]
  },
  {
   "cell_type": "markdown",
   "id": "410c5863",
   "metadata": {},
   "source": [
    "### 15. Write a Python program to get the maximum and minimum value in a dictionary."
   ]
  },
  {
   "cell_type": "code",
   "execution_count": 34,
   "id": "5204c2f3",
   "metadata": {},
   "outputs": [
    {
     "name": "stdout",
     "output_type": "stream",
     "text": [
      "MAximum Value:  5874\n",
      "Minimum Value:  500\n"
     ]
    }
   ],
   "source": [
    "my_dict={'x':500, 'y':5874, 'z': 560}\n",
    "key_max=max(my_dict.keys(),key=(lambda k:my_dict[k]))\n",
    "key_min=min(my_dict.keys(),key=(lambda k:my_dict[k]))\n",
    "print('MAximum Value: ',my_dict[key_max])\n",
    "print('Minimum Value: ',my_dict[key_min])"
   ]
  },
  {
   "cell_type": "code",
   "execution_count": null,
   "id": "992da28d",
   "metadata": {},
   "outputs": [],
   "source": []
  }
 ],
 "metadata": {
  "kernelspec": {
   "display_name": "Python 3 (ipykernel)",
   "language": "python",
   "name": "python3"
  },
  "language_info": {
   "codemirror_mode": {
    "name": "ipython",
    "version": 3
   },
   "file_extension": ".py",
   "mimetype": "text/x-python",
   "name": "python",
   "nbconvert_exporter": "python",
   "pygments_lexer": "ipython3",
   "version": "3.7.11"
  }
 },
 "nbformat": 4,
 "nbformat_minor": 5
}
