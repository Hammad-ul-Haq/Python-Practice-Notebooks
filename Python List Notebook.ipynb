{
 "cells": [
  {
   "cell_type": "code",
   "execution_count": 1,
   "id": "8d274246",
   "metadata": {},
   "outputs": [
    {
     "data": {
      "text/plain": [
       "[36, 64, 35, 37, 94]"
      ]
     },
     "execution_count": 1,
     "metadata": {},
     "output_type": "execute_result"
    }
   ],
   "source": [
    "symbols='$@#%^'\n",
    "codes=[]\n",
    "for symbol in symbols:\n",
    "    codes.append(ord(symbol))\n",
    "    \n",
    "codes"
   ]
  },
  {
   "cell_type": "code",
   "execution_count": 3,
   "id": "920dcd4a",
   "metadata": {},
   "outputs": [
    {
     "data": {
      "text/plain": [
       "[36, 64, 35, 37, 94]"
      ]
     },
     "execution_count": 3,
     "metadata": {},
     "output_type": "execute_result"
    }
   ],
   "source": [
    "symbols='$@#%^'\n",
    "codes= [ord(symbol) for symbol in symbols]\n",
    "codes"
   ]
  },
  {
   "cell_type": "code",
   "execution_count": 7,
   "id": "aeec1afa",
   "metadata": {},
   "outputs": [
    {
     "name": "stdout",
     "output_type": "stream",
     "text": [
      "a 1\n",
      "a 2\n",
      "a 3\n",
      "b 1\n",
      "b 2\n",
      "b 3\n",
      "c 1\n",
      "c 2\n",
      "c 3\n"
     ]
    }
   ],
   "source": [
    "def print_alpha_nums(abc_list, num_list):\n",
    "    for char in abc_list:\n",
    "        for num in num_list:\n",
    "            print(char, num)\n",
    "    return\n",
    "print_alpha_nums(['a','b','c'],[1,2,3])"
   ]
  },
  {
   "cell_type": "code",
   "execution_count": 8,
   "id": "58767584",
   "metadata": {},
   "outputs": [
    {
     "ename": "SyntaxError",
     "evalue": "invalid syntax (Temp/ipykernel_14544/1048824084.py, line 1)",
     "output_type": "error",
     "traceback": [
      "\u001b[1;36m  File \u001b[1;32m\"C:\\Users\\hhamm\\AppData\\Local\\Temp/ipykernel_14544/1048824084.py\"\u001b[1;36m, line \u001b[1;32m1\u001b[0m\n\u001b[1;33m    from datetime import\u001b[0m\n\u001b[1;37m                        ^\u001b[0m\n\u001b[1;31mSyntaxError\u001b[0m\u001b[1;31m:\u001b[0m invalid syntax\n"
     ]
    }
   ],
   "source": [
    "from datetime import"
   ]
  },
  {
   "cell_type": "code",
   "execution_count": 11,
   "id": "c62436dd",
   "metadata": {},
   "outputs": [
    {
     "data": {
      "text/plain": [
       "[]"
      ]
     },
     "execution_count": 11,
     "metadata": {},
     "output_type": "execute_result"
    }
   ],
   "source": [
    "list(range(1,10,-1))"
   ]
  },
  {
   "cell_type": "code",
   "execution_count": 2,
   "id": "b2a30e64",
   "metadata": {},
   "outputs": [
    {
     "name": "stdout",
     "output_type": "stream",
     "text": [
      "15\n"
     ]
    }
   ],
   "source": [
    "num=[1,2,3,4,5]\n",
    "sum=0\n",
    "for n in num:\n",
    "    sum+=n\n",
    "print(sum)"
   ]
  },
  {
   "cell_type": "code",
   "execution_count": 3,
   "id": "2b7771bc",
   "metadata": {},
   "outputs": [
    {
     "name": "stdout",
     "output_type": "stream",
     "text": [
      "120\n"
     ]
    }
   ],
   "source": [
    "num=[1,2,3,4,5]\n",
    "mul=1\n",
    "for n in num:\n",
    "    mul=mul *  n\n",
    "print(mul)"
   ]
  },
  {
   "cell_type": "code",
   "execution_count": 4,
   "id": "9e0e3561",
   "metadata": {},
   "outputs": [
    {
     "data": {
      "text/plain": [
       "120"
      ]
     },
     "execution_count": 4,
     "metadata": {},
     "output_type": "execute_result"
    }
   ],
   "source": [
    "1*2*3*4*5"
   ]
  },
  {
   "cell_type": "code",
   "execution_count": 6,
   "id": "0b9a9cd4",
   "metadata": {},
   "outputs": [
    {
     "name": "stdout",
     "output_type": "stream",
     "text": [
      "100\n"
     ]
    }
   ],
   "source": [
    "num=[1,2,100,3,4,5,6]\n",
    "largest=0\n",
    "for n in num:\n",
    "    if n>largest:\n",
    "        largest=n\n",
    "        \n",
    "print(largest)\n"
   ]
  },
  {
   "cell_type": "code",
   "execution_count": 7,
   "id": "ce8f38b2",
   "metadata": {},
   "outputs": [
    {
     "data": {
      "text/plain": [
       "100"
      ]
     },
     "execution_count": 7,
     "metadata": {},
     "output_type": "execute_result"
    }
   ],
   "source": [
    "max(num)"
   ]
  },
  {
   "cell_type": "code",
   "execution_count": 8,
   "id": "b68b1b7f",
   "metadata": {},
   "outputs": [
    {
     "data": {
      "text/plain": [
       "3"
      ]
     },
     "execution_count": 8,
     "metadata": {},
     "output_type": "execute_result"
    }
   ],
   "source": [
    "a='abc'\n",
    "len(a)"
   ]
  },
  {
   "cell_type": "code",
   "execution_count": 31,
   "id": "50239adf",
   "metadata": {
    "scrolled": false
   },
   "outputs": [
    {
     "name": "stdout",
     "output_type": "stream",
     "text": [
      "2\n",
      "['aba', '1221']\n"
     ]
    }
   ],
   "source": [
    "lst= ['abc', 'xyz', 'aba', '1221']\n",
    "cntr=0\n",
    "nlst=[]\n",
    "for l in lst:\n",
    "    if len(l) > 2 and  l[0] == l[-1]:\n",
    "        cntr+=1\n",
    "        nlst.append(l)\n",
    "    \n",
    "print(cntr)\n",
    "print(nlst) "
   ]
  },
  {
   "cell_type": "markdown",
   "id": "d0f29a74",
   "metadata": {},
   "source": [
    "### 7. Write a Python program to remove duplicates from a list."
   ]
  },
  {
   "cell_type": "markdown",
   "id": "e2679c1b",
   "metadata": {},
   "source": [
    "Solution 1"
   ]
  },
  {
   "cell_type": "code",
   "execution_count": 32,
   "id": "ed989736",
   "metadata": {},
   "outputs": [],
   "source": [
    "tp=[(2, 5), (1, 2), (4, 4), (2, 3), (2, 1)]"
   ]
  },
  {
   "cell_type": "code",
   "execution_count": null,
   "id": "7341d1a0",
   "metadata": {},
   "outputs": [],
   "source": [
    "def sort_list_last(tuples):\n",
    "  return sorted(tuples, key=last)\n",
    "\n",
    "print(sort_list_last([(2, 5), (1, 2), (4, 4), (2, 3), (2, 1)]))"
   ]
  },
  {
   "cell_type": "markdown",
   "id": "a0a23e7b",
   "metadata": {},
   "source": [
    "Solution 2"
   ]
  },
  {
   "cell_type": "code",
   "execution_count": 46,
   "id": "76f66432",
   "metadata": {},
   "outputs": [],
   "source": [
    "\n",
    "\n",
    "tps=sorted(tp, key=lambda x:x[1])"
   ]
  },
  {
   "cell_type": "code",
   "execution_count": 47,
   "id": "97efb433",
   "metadata": {},
   "outputs": [
    {
     "data": {
      "text/plain": [
       "[(2, 1), (1, 2), (2, 3), (4, 4), (2, 5)]"
      ]
     },
     "execution_count": 47,
     "metadata": {},
     "output_type": "execute_result"
    }
   ],
   "source": [
    "tps"
   ]
  },
  {
   "cell_type": "markdown",
   "id": "00607141",
   "metadata": {},
   "source": [
    "### 8. Write a Python program to check a list is empty or not."
   ]
  },
  {
   "cell_type": "code",
   "execution_count": 50,
   "id": "ed06f389",
   "metadata": {},
   "outputs": [
    {
     "name": "stdout",
     "output_type": "stream",
     "text": [
      "list is not empty\n"
     ]
    }
   ],
   "source": [
    "lst=[1]\n",
    "if len(lst)> 0:\n",
    "    print('list is not empty')\n",
    "else:\n",
    "    print(\"list is empty\")"
   ]
  },
  {
   "cell_type": "code",
   "execution_count": 51,
   "id": "d3f20e9d",
   "metadata": {},
   "outputs": [],
   "source": [
    "def emptycheck (lst):\n",
    "    if len(lst)> 0:\n",
    "        print('list is not empty')\n",
    "    else:\n",
    "        print(\"list is empty\")"
   ]
  },
  {
   "cell_type": "code",
   "execution_count": 53,
   "id": "543fff9d",
   "metadata": {},
   "outputs": [
    {
     "name": "stdout",
     "output_type": "stream",
     "text": [
      "list is not empty\n",
      "list is empty\n"
     ]
    }
   ],
   "source": [
    "lst1=[1,2,3]\n",
    "lst2=[]\n",
    "emptycheck(lst1)\n",
    "emptycheck(lst2)"
   ]
  },
  {
   "cell_type": "markdown",
   "id": "7932786a",
   "metadata": {},
   "source": [
    "### 9. Write a Python program to clone or copy a list."
   ]
  },
  {
   "cell_type": "code",
   "execution_count": 54,
   "id": "3b33afe2",
   "metadata": {},
   "outputs": [],
   "source": [
    "lst= ['abc', 'xyz', 'aba', '1221']\n",
    "lst_copy=lst.copy()"
   ]
  },
  {
   "cell_type": "markdown",
   "id": "5e873366",
   "metadata": {},
   "source": [
    "### 10. Write a Python program to find the list of words that are longer than n from a given list of words."
   ]
  },
  {
   "cell_type": "code",
   "execution_count": 62,
   "id": "c8e14c16",
   "metadata": {},
   "outputs": [
    {
     "name": "stdout",
     "output_type": "stream",
     "text": [
      "Red\n",
      "Pink\n"
     ]
    }
   ],
   "source": [
    "n=4\n",
    "lst=['Red', 'Green', 'White', 'Black', 'Pink', 'Yellow']\n",
    "for l in lst:\n",
    "    if len(l)<=n:\n",
    "        print(l)"
   ]
  },
  {
   "cell_type": "markdown",
   "id": "25c3065c",
   "metadata": {},
   "source": [
    "### 11. Write a Python function that takes two lists and returns True if they have at least one common member."
   ]
  },
  {
   "cell_type": "code",
   "execution_count": 2,
   "id": "b1ba83f6",
   "metadata": {},
   "outputs": [
    {
     "name": "stdout",
     "output_type": "stream",
     "text": [
      "True\n"
     ]
    }
   ],
   "source": [
    "aa=[1,2,3,4,5]\n",
    "bb=[3,6,7,8]\n",
    "bol=False\n",
    "for a in aa:\n",
    "    for b in bb:\n",
    "        if a==b:\n",
    "            bol= True\n",
    "            \n",
    "print(bol) "
   ]
  },
  {
   "cell_type": "markdown",
   "id": "95f0266f",
   "metadata": {},
   "source": [
    "### 12. Write a Python program to print a specified list after removing the 0th, 4th and 5th elements.\n",
    "Sample List : ['Red', 'Green', 'White', 'Black', 'Pink', 'Yellow'] <br>\n",
    "Expected Output : ['Green', 'White', 'Black']"
   ]
  },
  {
   "cell_type": "code",
   "execution_count": 22,
   "id": "61abae43",
   "metadata": {},
   "outputs": [],
   "source": [
    "colors=['Red', 'Green', 'White', 'Black', 'Pink', 'Yellow']"
   ]
  },
  {
   "cell_type": "code",
   "execution_count": 35,
   "id": "06754163",
   "metadata": {},
   "outputs": [],
   "source": [
    "color=[element for (x,element) in enumerate(colors) if x not in (0,4,5)]"
   ]
  },
  {
   "cell_type": "code",
   "execution_count": 36,
   "id": "590613ff",
   "metadata": {},
   "outputs": [
    {
     "name": "stdout",
     "output_type": "stream",
     "text": [
      "['Green', 'White', 'Black']\n"
     ]
    }
   ],
   "source": [
    "print(color)"
   ]
  },
  {
   "cell_type": "markdown",
   "id": "c22bc763",
   "metadata": {},
   "source": [
    "###  13. Write a Python program to generate a 3*4*6 3D array whose each element is *."
   ]
  },
  {
   "cell_type": "code",
   "execution_count": 37,
   "id": "b366e395",
   "metadata": {},
   "outputs": [],
   "source": [
    "array = [[['*' for col in range(6)]for col in range(4)]for row in range(3)]"
   ]
  },
  {
   "cell_type": "code",
   "execution_count": 38,
   "id": "7d939b99",
   "metadata": {},
   "outputs": [
    {
     "data": {
      "text/plain": [
       "[[['*', '*', '*', '*', '*', '*'],\n",
       "  ['*', '*', '*', '*', '*', '*'],\n",
       "  ['*', '*', '*', '*', '*', '*'],\n",
       "  ['*', '*', '*', '*', '*', '*']],\n",
       " [['*', '*', '*', '*', '*', '*'],\n",
       "  ['*', '*', '*', '*', '*', '*'],\n",
       "  ['*', '*', '*', '*', '*', '*'],\n",
       "  ['*', '*', '*', '*', '*', '*']],\n",
       " [['*', '*', '*', '*', '*', '*'],\n",
       "  ['*', '*', '*', '*', '*', '*'],\n",
       "  ['*', '*', '*', '*', '*', '*'],\n",
       "  ['*', '*', '*', '*', '*', '*']]]"
      ]
     },
     "execution_count": 38,
     "metadata": {},
     "output_type": "execute_result"
    }
   ],
   "source": [
    "array"
   ]
  },
  {
   "cell_type": "markdown",
   "id": "8d72a5f1",
   "metadata": {},
   "source": [
    "### 14. Write a Python program to print the numbers of a specified list after removing even numbers from it."
   ]
  },
  {
   "cell_type": "code",
   "execution_count": null,
   "id": "fc9a7582",
   "metadata": {},
   "outputs": [],
   "source": [
    "lst=[1,2,3,4,5,6,7,8,9]\n",
    "for l in lst:\n",
    "    "
   ]
  }
 ],
 "metadata": {
  "kernelspec": {
   "display_name": "Python 3 (ipykernel)",
   "language": "python",
   "name": "python3"
  },
  "language_info": {
   "codemirror_mode": {
    "name": "ipython",
    "version": 3
   },
   "file_extension": ".py",
   "mimetype": "text/x-python",
   "name": "python",
   "nbconvert_exporter": "python",
   "pygments_lexer": "ipython3",
   "version": "3.7.11"
  }
 },
 "nbformat": 4,
 "nbformat_minor": 5
}
